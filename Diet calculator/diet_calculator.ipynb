{
 "cells": [
  {
   "cell_type": "markdown",
   "metadata": {
    "deletable": true,
    "editable": true
   },
   "source": [
    "# Intermitent Fasting and Feasting diet calculator\n",
    "\n",
    "## This project was based on the book \"Intermitent Feast\" by Neat Miyaki\n",
    "\n",
    "#### The purpose of this notebook is to allow the user to automatically generate a diet based on his daily activity requirements, hi goals and an intermitent fasting and feasting diet"
   ]
  },
  {
   "cell_type": "code",
   "execution_count": 12,
   "metadata": {
    "collapsed": false,
    "deletable": true,
    "editable": true
   },
   "outputs": [
    {
     "name": "stdout",
     "output_type": "stream",
     "text": [
      "\u001b[0m\u001b[01;34mAndroid\u001b[0m/                  matlab_crash_dump.2455-1  matlab_crash_dump.8441-1\r\n",
      "\u001b[01;34mDesktop\u001b[0m/                  matlab_crash_dump.2638-1  mozilla.pdf\r\n",
      "\u001b[01;34mDocuments\u001b[0m/                matlab_crash_dump.2674-1  \u001b[01;34mMusic\u001b[0m/\r\n",
      "\u001b[01;34mDownloads\u001b[0m/                matlab_crash_dump.2683-1  \u001b[01;34mPictures\u001b[0m/\r\n",
      "\u001b[01;35mFirefox_wallpaper.png\u001b[0m     matlab_crash_dump.3066-1  \u001b[01;34mPolyspace_Workspace\u001b[0m/\r\n",
      "java.log.2348             matlab_crash_dump.3107-1  \u001b[01;34mPublic\u001b[0m/\r\n",
      "java.log.2349             matlab_crash_dump.3395-1  \u001b[01;34mTemplates\u001b[0m/\r\n",
      "matlab_crash_dump.2286-1  matlab_crash_dump.4031-1  \u001b[01;34mVideos\u001b[0m/\r\n",
      "matlab_crash_dump.2389-1  matlab_crash_dump.7253-1  \u001b[01;34mworkspace\u001b[0m/\r\n"
     ]
    }
   ],
   "source": [
    "from die"
   ]
  },
  {
   "cell_type": "markdown",
   "metadata": {
    "collapsed": true,
    "deletable": true,
    "editable": true
   },
   "source": [
    "### Non-starchy vegetables\n"
   ]
  },
  {
   "cell_type": "code",
   "execution_count": null,
   "metadata": {
    "collapsed": true
   },
   "outputs": [],
   "source": []
  }
 ],
 "metadata": {
  "kernelspec": {
   "display_name": "Python 2",
   "language": "python",
   "name": "python2"
  },
  "language_info": {
   "codemirror_mode": {
    "name": "ipython",
    "version": 2
   },
   "file_extension": ".py",
   "mimetype": "text/x-python",
   "name": "python",
   "nbconvert_exporter": "python",
   "pygments_lexer": "ipython2",
   "version": "2.7.12"
  }
 },
 "nbformat": 4,
 "nbformat_minor": 2
}
