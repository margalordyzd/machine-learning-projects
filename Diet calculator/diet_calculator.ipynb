{
 "cells": [
  {
   "cell_type": "markdown",
   "metadata": {
    "deletable": true,
    "editable": true
   },
   "source": [
    "# Intermitent Fasting and Feasting diet calculator\n",
    "\n",
    "## This project was based on the book \"Intermitent Feast\" by Neat Miyaki\n",
    "\n",
    "#### The purpose of this notebook is to allow the user to automatically generate a diet based on his daily activity requirements, hi goals and an intermitent fasting and feasting diet"
   ]
  },
  {
   "cell_type": "code",
   "execution_count": 1,
   "metadata": {
    "collapsed": false,
    "deletable": true,
    "editable": true
   },
   "outputs": [],
   "source": [
    "from diet_utilities import *"
   ]
  },
  {
   "cell_type": "code",
   "execution_count": 8,
   "metadata": {
    "collapsed": false
   },
   "outputs": [
    {
     "name": "stdout",
     "output_type": "stream",
     "text": [
      "Debes comer 1914.0 calorias\n",
      "Debes comer 191.4g de proteinas\n",
      "********************************************\n",
      "   Calories  Protein_gr  Carbs_gr     Fat_gr\n",
      "0    1914.0       191.4     191.4  42.533333\n",
      "********************************************\n",
      "BREAKFAST:\n",
      "\n",
      "- skip\n",
      "********************************************\n",
      "LUNCH:\n",
      "- 306.061202g of animal protein\n",
      "- non-starchy vegetables\n",
      "- 1 piece whole fruit and/or 1 serving whole food fats\n",
      "********************************************\n",
      "LUNCH:\n",
      "- 453.592g of animal protein\n",
      "- non-starchy vegetables\n",
      "- 3 servings starchy carbohydrate (i.e. cup rice or 24oz potato/sweet potato)\n",
      "********************************************\n"
     ]
    }
   ],
   "source": [
    "diet_calclator(weight=87,active=1,objective='fat_loss',weight_unit='kg')"
   ]
  },
  {
   "cell_type": "markdown",
   "metadata": {},
   "source": [
    "# Recomended food choices"
   ]
  },
  {
   "cell_type": "markdown",
   "metadata": {},
   "source": [
    "![title](img/meat.png)"
   ]
  },
  {
   "cell_type": "markdown",
   "metadata": {
    "collapsed": true,
    "deletable": true,
    "editable": true
   },
   "source": [
    "# Recomended whole fruit"
   ]
  },
  {
   "cell_type": "markdown",
   "metadata": {},
   "source": [
    "![title](img/fruta.png)"
   ]
  },
  {
   "cell_type": "markdown",
   "metadata": {},
   "source": [
    "# Recomended vegetables"
   ]
  },
  {
   "cell_type": "markdown",
   "metadata": {},
   "source": [
    "![title](img/vegetales.png)"
   ]
  },
  {
   "cell_type": "markdown",
   "metadata": {},
   "source": [
    "# Recomended carbs and extras\n"
   ]
  },
  {
   "cell_type": "markdown",
   "metadata": {
    "collapsed": true
   },
   "source": [
    "![title](img/extras.png)"
   ]
  }
 ],
 "metadata": {
  "kernelspec": {
   "display_name": "Python 2",
   "language": "python",
   "name": "python2"
  },
  "language_info": {
   "codemirror_mode": {
    "name": "ipython",
    "version": 2
   },
   "file_extension": ".py",
   "mimetype": "text/x-python",
   "name": "python",
   "nbconvert_exporter": "python",
   "pygments_lexer": "ipython2",
   "version": "2.7.12"
  }
 },
 "nbformat": 4,
 "nbformat_minor": 2
}
