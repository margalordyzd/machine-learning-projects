{
 "cells": [
  {
   "cell_type": "markdown",
   "metadata": {
    "deletable": true,
    "editable": true
   },
   "source": [
    "# Intermitent Fasting and Feasting diet calculator\n",
    "\n",
    "## This project was based on the book \"Intermitent Feast\" by Neat Miyaki\n",
    "\n",
    "#### The purpose of this notebook is to allow the user to automatically generate a diet based on his daily activity requirements, hi goals and an intermitent fasting and feasting diet"
   ]
  },
  {
   "cell_type": "code",
   "execution_count": 1,
   "metadata": {
    "collapsed": false,
    "deletable": true,
    "editable": true
   },
   "outputs": [],
   "source": [
    "from diet_utilities import *"
   ]
  },
  {
   "cell_type": "markdown",
   "metadata": {},
   "source": [
    "## Diet Calculator receives 5 parameters\n",
    "\n",
    "###          weight: this parameter is simply the weight of the person for whom the diet is   created\n",
    "\n",
    "### weight_unit: the unit in wich the weight was inserted\n",
    "#### possible values:\n",
    "##### - 'kg' : Kilograms \n",
    "##### - 'pd' : pounds\n",
    "\n",
    "### body_fat: body fat percentage in decimals\n",
    "#### default value:\n",
    "##### - .2 : 20 percent of body fat\n",
    "\n",
    "### objective: the objective you are wishing to attain with this diet\n",
    "#### possible values:\n",
    "##### - 'fat_loss' :  for losing weight\n",
    "##### - 'muscle_gain' : as easy as it sounds, for gaining muscle\n",
    "\n",
    "### active: this is a yes or no value of wether the user has any cosiderable physical activity\n",
    "#### possible values:\n",
    "##### - 1 :  the user excesices\n",
    "##### -  2 : the user lives a sedentary life"
   ]
  },
  {
   "cell_type": "code",
   "execution_count": 2,
   "metadata": {
    "collapsed": false,
    "deletable": true,
    "editable": true
   },
   "outputs": [
    {
     "name": "stdout",
     "output_type": "stream",
     "text": [
      "Debes comer 2970.0 calorias\n",
      "Debes comer 165.0g de proteinas\n",
      "********************************************\n",
      "   Calories  Protein_gr  Carbs_gr  Fat_gr\n",
      "0    2970.0       165.0     429.0    66.0\n",
      "********************************************\n",
      "BREAKFAST:\n",
      "\n",
      "- skip or black coffe / plain tea\n",
      "********************************************\n",
      "LUNCH:\n",
      "- 314.67945g of animal protein\n",
      "- non-starchy vegetables\n",
      "- 1 piece whole fruit and/or 1 serving whole food fats\n",
      "********************************************\n",
      "LUNCH:\n",
      "- 340.194g of animal protein\n",
      "- non-starchy vegetables\n",
      "- 7 servings starchy carbohydrate (i.e. 7 cup rice or potato/sweet potato)\n",
      "********************************************\n"
     ]
    }
   ],
   "source": [
    "diet_calclator(weight=75,active=1,objective='muscle_gain',weight_unit='kg')"
   ]
  },
  {
   "cell_type": "markdown",
   "metadata": {
    "deletable": true,
    "editable": true
   },
   "source": [
    "# Recomended food choices"
   ]
  },
  {
   "cell_type": "markdown",
   "metadata": {
    "deletable": true,
    "editable": true
   },
   "source": [
    "![title](img/meat.png)"
   ]
  },
  {
   "cell_type": "markdown",
   "metadata": {
    "collapsed": true,
    "deletable": true,
    "editable": true
   },
   "source": [
    "# Recomended whole fruit"
   ]
  },
  {
   "cell_type": "markdown",
   "metadata": {
    "deletable": true,
    "editable": true
   },
   "source": [
    "![title](img/fruta.png)"
   ]
  },
  {
   "cell_type": "markdown",
   "metadata": {
    "deletable": true,
    "editable": true
   },
   "source": [
    "# Recomended vegetables"
   ]
  },
  {
   "cell_type": "markdown",
   "metadata": {
    "deletable": true,
    "editable": true
   },
   "source": [
    "![title](img/vegetales.png)"
   ]
  },
  {
   "cell_type": "markdown",
   "metadata": {
    "deletable": true,
    "editable": true
   },
   "source": [
    "# Recomended carbs and extras\n"
   ]
  },
  {
   "cell_type": "markdown",
   "metadata": {
    "collapsed": true,
    "deletable": true,
    "editable": true
   },
   "source": [
    "![title](img/extras.png)"
   ]
  }
 ],
 "metadata": {
  "kernelspec": {
   "display_name": "Python 2",
   "language": "python",
   "name": "python2"
  },
  "language_info": {
   "codemirror_mode": {
    "name": "ipython",
    "version": 2
   },
   "file_extension": ".py",
   "mimetype": "text/x-python",
   "name": "python",
   "nbconvert_exporter": "python",
   "pygments_lexer": "ipython2",
   "version": "2.7.12"
  }
 },
 "nbformat": 4,
 "nbformat_minor": 2
}
