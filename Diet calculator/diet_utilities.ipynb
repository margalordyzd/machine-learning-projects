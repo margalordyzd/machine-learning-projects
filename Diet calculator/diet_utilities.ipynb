import pandas as pd
df =pd.DataFrame({'1fat_loss': pd.Series([10,1])})
def diet_calclator(weight,body_fat=.2,active=1,objective='fat_loss',weight_unit='kg'):
    magic_protein = .14
    if weight_unit== 'kg':
        weight=weight*2.2
    match=str(active)+objective
    diet = df[match]*weigth
    meal = diet.iloc[1]*magic_protein
    return diet,meal
    
    
    
    